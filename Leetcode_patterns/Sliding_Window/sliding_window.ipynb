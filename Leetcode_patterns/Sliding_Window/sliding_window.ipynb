{
 "cells": [
  {
   "cell_type": "markdown",
   "metadata": {
    "vscode": {
     "languageId": "plaintext"
    }
   },
   "source": [
    "🔤 Leetcode 3: Longest Substring Without Repeating Characters\n",
    "🧠 Problem Statement:\n",
    "- Given a string s, return the length of the longest substring without repeating characters.\n",
    "\n",
    "- Input: s = \"abcabcbb\"\n",
    "- Output: 3  \n",
    "Explanation: The answer is \"abc\", with length 3.\n"
   ]
  },
  {
   "cell_type": "code",
   "execution_count": null,
   "metadata": {},
   "outputs": [],
   "source": [
    "#s = \"cadbzabcd\"\n",
    "s = \"abcabcbb\" # this is a standard way to get all non repeating substring in kinear time\n",
    "\n",
    "map = {}\n",
    "\n",
    "left=0\n",
    "max_len = 0\n",
    "\n",
    "for right in range(len(s)):\n",
    "    \n",
    "    if s[right] not in map:\n",
    "        map[s[right]] = right\n",
    "        len_str = right - left +1\n",
    "\n",
    "    elif s[right] in map and map[s[right]]>=left: # ye dono conditions met hhonge tabhi hoga\n",
    "        left = map[s[right]] + 1 #update left\n",
    "        map[s[right]] = right #update the map \n",
    "        len_str = right - left +1\n",
    "    \n",
    "    sub_str = s[left:right+1]\n",
    "    print(sub_str)\n",
    "\n",
    "    max_len = max(max_len,len_str)"
   ]
  },
  {
   "cell_type": "code",
   "execution_count": 28,
   "metadata": {},
   "outputs": [
    {
     "name": "stdout",
     "output_type": "stream",
     "text": [
      "3\n"
     ]
    }
   ],
   "source": [
    "\n",
    "print(max_len)\n"
   ]
  },
  {
   "cell_type": "markdown",
   "metadata": {},
   "source": [
    "## longest duplicate substring in a given string\n",
    "\n",
    "Input: s = \"banana\"\n",
    "Output: \"ana\" (ana and ana has been repeated twice)\n"
   ]
  },
  {
   "cell_type": "code",
   "execution_count": 55,
   "metadata": {},
   "outputs": [
    {
     "name": "stdout",
     "output_type": "stream",
     "text": [
      "matched substring is a\n",
      "matched substring is an\n",
      "matched substring is ana\n",
      "matched substring is n\n",
      "matched substring is na\n",
      "matched substring is a\n"
     ]
    },
    {
     "data": {
      "text/plain": [
       "3"
      ]
     },
     "execution_count": 55,
     "metadata": {},
     "output_type": "execute_result"
    }
   ],
   "source": [
    "# Brute Force  # standard code to get all substr and then hash map\n",
    "s = \"banana\"\n",
    "count_map = {}\n",
    "max_len = 0\n",
    "for i in range(len(s)):\n",
    "    for j in range(i,len(s)):\n",
    "        sub_str = s[i:j+1]\n",
    "        if sub_str in count_map:\n",
    "            max_len = max(max_len,count_map[sub_str])\n",
    "            print(f\"matched substring is {sub_str}\")\n",
    "        else:\n",
    "            count_map[sub_str] = len(sub_str)\n",
    "       \n",
    "max_len"
   ]
  },
  {
   "cell_type": "code",
   "execution_count": 68,
   "metadata": {},
   "outputs": [],
   "source": [
    "# ## Optimised Way Sliding Window Method\n",
    "# s = \"banana\"\n",
    "\n",
    "# map = {}\n",
    "\n",
    "# left=0\n",
    "# max_len = 0\n",
    "\n",
    "# for right in range(len(s)):\n",
    "    \n",
    "#     if s[right] not in map:\n",
    "#         map[s[right]] = right\n",
    "#         len_str = right - left +1\n",
    "\n",
    "#     elif s[right] in map and map[s[right]]>=left: # ye dono conditions met hhonge tabhi hoga\n",
    "#         left = map[s[right]] + 1 #update left\n",
    "#         map[s[right]] = right #update the map \n",
    "#         len_str = right - left +1\n",
    "        \n",
    "#     sub_str = s[left:right+1]\n",
    "#     print(sub_str)\n",
    "\n",
    "#     max_len = max(max_len,len_str)\n",
    "\n",
    "# #max_len"
   ]
  },
  {
   "cell_type": "code",
   "execution_count": null,
   "metadata": {},
   "outputs": [],
   "source": []
  }
 ],
 "metadata": {
  "kernelspec": {
   "display_name": "psds",
   "language": "python",
   "name": "python3"
  },
  "language_info": {
   "codemirror_mode": {
    "name": "ipython",
    "version": 3
   },
   "file_extension": ".py",
   "mimetype": "text/x-python",
   "name": "python",
   "nbconvert_exporter": "python",
   "pygments_lexer": "ipython3",
   "version": "3.8.19"
  }
 },
 "nbformat": 4,
 "nbformat_minor": 2
}
