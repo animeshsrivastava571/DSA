{
 "cells": [
  {
   "cell_type": "markdown",
   "metadata": {
    "vscode": {
     "languageId": "plaintext"
    }
   },
   "source": [
    "🔤 Leetcode 3: Longest Substring Without Repeating Characters\n",
    "🧠 Problem Statement:\n",
    "- Given a string s, return the length of the longest substring without repeating characters.\n",
    "\n",
    "- Input: s = \"abcabcbb\"\n",
    "- Output: 3  \n",
    "Explanation: The answer is \"abc\", with length 3.\n"
   ]
  },
  {
   "cell_type": "code",
   "execution_count": null,
   "metadata": {},
   "outputs": [],
   "source": [
    "#s = \"cadbzabcd\"\n",
    "s = \"abcabcbb\"\n",
    "\n",
    "map = {}\n",
    "\n",
    "left=0\n",
    "max_len = 0\n",
    "\n",
    "for right in range(len(s)):\n",
    "    \n",
    "\n",
    "    if s[right] not in map:\n",
    "        map[s[right]] = right\n",
    "        len_str = right - left +1\n",
    "\n",
    "    elif s[right] in map and map[s[right]]>=left: # ye dono conditions met hhonge tabhi hoga\n",
    "        left = map[s[right]] + 1 #update left\n",
    "        map[s[right]] = right #update the map \n",
    "        len_str = right - left +1\n",
    "\n",
    "\n",
    "    max_len = max(max_len,len_str)"
   ]
  },
  {
   "cell_type": "code",
   "execution_count": 28,
   "metadata": {},
   "outputs": [
    {
     "name": "stdout",
     "output_type": "stream",
     "text": [
      "3\n"
     ]
    }
   ],
   "source": [
    "\n",
    "print(max_len)\n"
   ]
  }
 ],
 "metadata": {
  "kernelspec": {
   "display_name": "psds",
   "language": "python",
   "name": "python3"
  },
  "language_info": {
   "codemirror_mode": {
    "name": "ipython",
    "version": 3
   },
   "file_extension": ".py",
   "mimetype": "text/x-python",
   "name": "python",
   "nbconvert_exporter": "python",
   "pygments_lexer": "ipython3",
   "version": "3.8.19"
  }
 },
 "nbformat": 4,
 "nbformat_minor": 2
}
