{
 "cells": [
  {
   "cell_type": "markdown",
   "metadata": {
    "vscode": {
     "languageId": "plaintext"
    }
   },
   "source": [
    "Core Idea of Two Pointers\n",
    "Maintain two indices (left, right) and move them inward or outward based on some condition (sum, area, etc.).\n",
    "\n",
    "⚡ When is this useful?\n",
    "- Sorted arrays\n",
    "\n",
    "- Minimizing/maximizing conditions\n",
    "\n",
    "- Removing duplicates\n",
    "\n",
    "- Searching for target sums"
   ]
  },
  {
   "cell_type": "markdown",
   "metadata": {
    "vscode": {
     "languageId": "plaintext"
    }
   },
   "source": [
    "## Leetcode Problem 1: 167. Two Sum II – Input Array Is Sorted\n",
    "🔹 Problem:\n",
    "- Given a 1-indexed sorted array of integers numbers and a target, return the indices of the two numbers that add up to the target."
   ]
  },
  {
   "cell_type": "markdown",
   "metadata": {},
   "source": [
    "- Input: numbers = [2, 7, 11, 15], target = 9  \n",
    "- Output: [0,1]  (2+7=9)"
   ]
  },
  {
   "cell_type": "code",
   "execution_count": null,
   "metadata": {},
   "outputs": [
    {
     "name": "stdout",
     "output_type": "stream",
     "text": [
      "numbers are whose sum equal to 22 are 7 and 15\n"
     ]
    }
   ],
   "source": [
    "# Brute Force Way\n",
    "\n",
    "nums = [2, 7, 11, 15]\n",
    "target = 22\n",
    "\n",
    "for i in range(len(nums)):\n",
    "    diff = target- nums[i]\n",
    "    for j in range(i+1,len(nums)):\n",
    "        if nums[j] == diff:\n",
    "            print(f\"numbers are whose sum equal to {target} are {nums[i]} and {nums[j]}\")\n",
    "\n"
   ]
  },
  {
   "cell_type": "code",
   "execution_count": 4,
   "metadata": {},
   "outputs": [
    {
     "name": "stdout",
     "output_type": "stream",
     "text": [
      "17\n",
      "22\n",
      "numbers are whose sum equal to 22 are 7 and 15\n",
      "[1, 3]\n"
     ]
    }
   ],
   "source": [
    "# 2 pointer way\n",
    "\n",
    "nums = [2, 7, 11, 15]\n",
    "target = 22\n",
    "\n",
    "left = 0\n",
    "right = len(nums) -1\n",
    "\n",
    "while (left < right):\n",
    "    s =  nums[left] + nums[right]\n",
    "    print(s)\n",
    "    if s == target:\n",
    "        print(f\"numbers are whose sum equal to {target} are {nums[left]} and {nums[right]}\")\n",
    "        print([left,right])\n",
    "        break #break krna is important\n",
    "    \n",
    "    elif s < target: #less hai to left ko badhao\n",
    "        left = left +1\n",
    "    \n",
    "    else :\n",
    "        right = right -1\n",
    "    \n"
   ]
  }
 ],
 "metadata": {
  "kernelspec": {
   "display_name": "psds",
   "language": "python",
   "name": "python3"
  },
  "language_info": {
   "codemirror_mode": {
    "name": "ipython",
    "version": 3
   },
   "file_extension": ".py",
   "mimetype": "text/x-python",
   "name": "python",
   "nbconvert_exporter": "python",
   "pygments_lexer": "ipython3",
   "version": "3.8.19"
  }
 },
 "nbformat": 4,
 "nbformat_minor": 2
}
