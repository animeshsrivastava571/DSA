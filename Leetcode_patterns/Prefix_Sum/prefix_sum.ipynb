{
 "cells": [
  {
   "cell_type": "markdown",
   "metadata": {},
   "source": [
    "# Brute Force Way\n",
    "🔸 What is a Prefix Sum?\n",
    "- A prefix sum is a running total of the elements of an array.\n",
    "- It helps you answer \"what is the sum of elements between two indices?\" quickly."
   ]
  },
  {
   "cell_type": "code",
   "execution_count": null,
   "metadata": {},
   "outputs": [
    {
     "name": "stdout",
     "output_type": "stream",
     "text": [
      "12\n"
     ]
    }
   ],
   "source": [
    "nums = [2,4,5,3,8]\n",
    "\n",
    "# # find sum between i and j indices\n",
    "\n",
    "def prefix_sum(nums, i, j):\n",
    "    s1 = 0\n",
    "\n",
    "    for k in range(i,j+1):\n",
    "        s1 = s1+ nums[k]\n",
    "    return s1\n",
    "i=1\n",
    "j=3\n",
    "print(prefix_sum(nums, i, j))"
   ]
  },
  {
   "cell_type": "markdown",
   "metadata": {},
   "source": [
    "## Optimised Way using Prefix sum\n",
    "\n",
    "prefix = [0]  # We start with 0 for convenience\n",
    "for num in nums:\n",
    "    prefix.append(prefix[-1] + num)\n",
    "\n",
    "- prefix now becomes: [0, 2, 6, 11, 14, 22]\n",
    "Now the sum from index i to j is:\n",
    "- prefix[j + 1] - prefix[i]\n",
    "\n",
    "\n"
   ]
  },
  {
   "cell_type": "code",
   "execution_count": 5,
   "metadata": {},
   "outputs": [
    {
     "name": "stdout",
     "output_type": "stream",
     "text": [
      "12\n"
     ]
    }
   ],
   "source": [
    "nums = [2,4,5,3,8]\n",
    "\n",
    "def prefix_sum(nums, i,j):\n",
    "    prefix = [0]\n",
    "    for num in nums:\n",
    "        prefix.append(prefix[-1]+num)\n",
    "\n",
    "    sum_range = prefix[j+1] - prefix[i]\n",
    "    return sum_range\n",
    "\n",
    "\n",
    "i=1\n",
    "j=3\n",
    "print(prefix_sum(nums, i,j))"
   ]
  },
  {
   "cell_type": "markdown",
   "metadata": {},
   "source": [
    "## Leetcode Style Questions\n"
   ]
  },
  {
   "cell_type": "markdown",
   "metadata": {},
   "source": [
    "🧠 Problem Statement (LeetCode 525)\n",
    "https://github.com/doocs/leetcode/blob/main/solution/0500-0599/0525.Contiguous%20Array/README_EN.md\n",
    "- Given a binary array nums, find the maximum length of a contiguous subarray with an equal number of 0 and 1\n",
    "\n",
    "-Example:\n",
    "-Input:  nums = [0,1]\n",
    "- Output: 2   # [0,1] has equal number of 0 and 1\n",
    "\n",
    "###########\n",
    "\n",
    "- Input: nums = [0,1,0]\n",
    "- Output: 2  # [1,0] or [0,1] both work\n",
    "\n",
    "\n",
    "###########\n",
    "- Input: nums = [0,1,1,1,1,1,0,0,0]\n",
    "- Output: 6\n",
    "- Explanation: [1,1,1,0,0,0] is the longest contiguous subarray with equal number of 0 and 1.\n"
   ]
  },
  {
   "cell_type": "markdown",
   "metadata": {},
   "source": [
    "### Brute Force Way\n"
   ]
  },
  {
   "cell_type": "code",
   "execution_count": 63,
   "metadata": {},
   "outputs": [
    {
     "name": "stdout",
     "output_type": "stream",
     "text": [
      "[0, 1]\n",
      "[1, 1, 1, 0, 0, 0]\n",
      "[1, 1, 0, 0]\n",
      "[1, 0]\n",
      "6\n"
     ]
    }
   ],
   "source": [
    "nums = [0,1,1,1,1,1,0,0,0]\n",
    "max_len = 0\n",
    "\n",
    "for i in range(len(nums)):\n",
    "    running_balance=0\n",
    "    for j in range(i,len(nums)):\n",
    "        if nums[j]==1:\n",
    "            running_balance=running_balance+1\n",
    "        elif nums[j]==0:\n",
    "            running_balance=running_balance-1\n",
    "        \n",
    "        if running_balance ==0:\n",
    "            subarray= nums[i:j+1]\n",
    "            print(subarray)\n",
    "            max_len = max(max_len, len(subarray))\n",
    "\n",
    "print(max_len)        "
   ]
  },
  {
   "cell_type": "markdown",
   "metadata": {},
   "source": [
    "## Best Way Using Prefix Sum + Hash Map\n"
   ]
  },
  {
   "cell_type": "code",
   "execution_count": 79,
   "metadata": {},
   "outputs": [
    {
     "name": "stdout",
     "output_type": "stream",
     "text": [
      "Match found: Subarray from 0 to 1 → [1, 0]\n",
      "Match found: Subarray from 1 to 2 → [0, 1]\n",
      "Match found: Subarray from 1 to 4 → [0, 1, 1, 0]\n",
      "Match found: Subarray from 0 to 5 → [1, 0, 1, 1, 0, 0]\n",
      "Match found: Subarray from 1 to 6 → [0, 1, 1, 0, 0, 1]\n",
      "Maximum length of balanced subarray: 6\n"
     ]
    }
   ],
   "source": [
    "nums = [1, 0, 1, 1, 0, 0, 1]\n",
    "nums1 = [-1 if x == 0 else 1 for x in nums]\n",
    "\n",
    "prefix_sum = 0\n",
    "seen_map = {0: -1}  # Handle prefix_sum == 0 case\n",
    "max_len = 0\n",
    "\n",
    "for i in range(len(nums1)):\n",
    "    prefix_sum += nums1[i]\n",
    "\n",
    "    if prefix_sum in seen_map:\n",
    "        start_index = seen_map[prefix_sum] + 1\n",
    "        end_index = i + 1\n",
    "        sub_array = nums[start_index:end_index]\n",
    "        print(f\"Match found: Subarray from {start_index} to {i} → {sub_array}\")\n",
    "\n",
    "        length = i - seen_map[prefix_sum]\n",
    "        max_len = max(max_len, length)\n",
    "    else:\n",
    "        seen_map[prefix_sum] = i\n",
    "\n",
    "print(\"Maximum length of balanced subarray:\", max_len)\n"
   ]
  },
  {
   "cell_type": "markdown",
   "metadata": {},
   "source": [
    "## LeetCode 560: Subarray Sum Equals K\n",
    "🔹 Problem Statement:\n",
    "- Given an integer array nums and an integer k, return the total number of continuous subarrays whose sum equals k.\n",
    "\n",
    "Input: nums = [1, 2, 3], k = 3  \n",
    "Output: 2  Explanation: [1,2] and [3] are valid subarrays"
   ]
  },
  {
   "cell_type": "markdown",
   "metadata": {},
   "source": [
    "#### subarray hai and sum hai then its a prefix sum problem\n",
    "\n"
   ]
  },
  {
   "cell_type": "code",
   "execution_count": 84,
   "metadata": {},
   "outputs": [
    {
     "data": {
      "text/plain": [
       "[0, 1, 3, 6]"
      ]
     },
     "execution_count": 84,
     "metadata": {},
     "output_type": "execute_result"
    }
   ],
   "source": [
    "nums = [1, 2, 3]\n",
    "k = 3 \n",
    "\n",
    "s1 = 0\n",
    "prefix_sum = [s1]\n",
    "\n",
    "for val in nums:\n",
    "    s1 = s1+val\n",
    "    prefix_sum.append(s1)\n",
    "prefix_sum"
   ]
  },
  {
   "cell_type": "code",
   "execution_count": null,
   "metadata": {},
   "outputs": [
    {
     "name": "stdout",
     "output_type": "stream",
     "text": [
      "sub array [1, 2] with length 2\n",
      "sub array [3] with length 1\n"
     ]
    }
   ],
   "source": [
    "nums = [1, 2, 3]\n",
    "k = 3 \n",
    "\n",
    "s1 = 0\n",
    "prefix_sum = [s1]\n",
    "map_prefix = {0:-1}\n",
    "\n",
    "for i in range(len(nums)):\n",
    "    s1 = s1 + nums[i]\n",
    "   \n",
    "    if s1 not in map_prefix:\n",
    "        map_prefix[s1] = i\n",
    "\n",
    "    if s1 - k in map_prefix:\n",
    "        start_index = map_prefix[s1-k]  # Remember this pattern\n",
    "        end_index = map_prefix[s1]\n",
    "\n",
    "        sub_array = nums[start_index+1:end_index+1]\n",
    "\n",
    "        print(f\"sub array {sub_array} with length {len(sub_array)}\")\n",
    " "
   ]
  },
  {
   "cell_type": "code",
   "execution_count": null,
   "metadata": {},
   "outputs": [],
   "source": []
  }
 ],
 "metadata": {
  "kernelspec": {
   "display_name": "psds",
   "language": "python",
   "name": "python3"
  },
  "language_info": {
   "codemirror_mode": {
    "name": "ipython",
    "version": 3
   },
   "file_extension": ".py",
   "mimetype": "text/x-python",
   "name": "python",
   "nbconvert_exporter": "python",
   "pygments_lexer": "ipython3",
   "version": "3.8.19"
  }
 },
 "nbformat": 4,
 "nbformat_minor": 2
}
